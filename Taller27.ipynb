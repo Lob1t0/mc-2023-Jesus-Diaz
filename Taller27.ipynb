{
  "nbformat": 4,
  "nbformat_minor": 0,
  "metadata": {
    "colab": {
      "provenance": []
    },
    "kernelspec": {
      "name": "python3",
      "display_name": "Python 3"
    },
    "language_info": {
      "name": "python"
    }
  },
  "cells": [
    {
      "cell_type": "code",
      "source": [
        "def f(x):\n",
        "    return 1.5 * x**3 - 3.5 * x**2 - 2 * x + 2\n",
        "\n",
        "def bisection_method(a, b, precision):\n",
        "    if f(a) * f(b) >= 0:\n",
        "        print(\"No se puede aplicar el método de la bisección en este intervalo.\")\n",
        "        return None\n",
        "\n",
        "    iterations = 0\n",
        "    while (b - a) >= precision:\n",
        "        c = (a + b) / 2.0\n",
        "\n",
        "        if f(c) == 0.0:\n",
        "            break\n",
        "\n",
        "        if f(c) * f(a) < 0:\n",
        "            b = c\n",
        "        else:\n",
        "            a = c\n",
        "\n",
        "        iterations += 1\n",
        "\n",
        "    approx_root = (a + b) / 2.0\n",
        "    error = (b - a) / 2.0\n",
        "\n",
        "    return approx_root, error, iterations\n",
        "\n",
        "# Definir los límites iniciales del intervalo [a, b]\n",
        "a = -10.0\n",
        "b = 10.0\n",
        "\n",
        "# Precisión deseada (8 cifras significativas)\n",
        "precision = 0.00000001\n",
        "\n",
        "# Aplicar el método de la bisección\n",
        "approx_root, error, iterations = bisection_method(a, b, precision)\n",
        "\n",
        "# Imprimir los resultados\n",
        "print(\"Raíz aproximada:\", approx_root)\n",
        "print(\"Error aproximado:\", error)\n",
        "print(\"Número de iteraciones:\", iterations)\n"
      ],
      "metadata": {
        "id": "WULuPrvIv7o1",
        "outputId": "0d2cfe75-e8a5-4593-ab88-e9718cc6e654",
        "colab": {
          "base_uri": "https://localhost:8080/"
        }
      },
      "execution_count": 6,
      "outputs": [
        {
          "output_type": "stream",
          "name": "stdout",
          "text": [
            "Raíz aproximada: -0.8835706347599626\n",
            "Error aproximado: 4.6566128730773926e-09\n",
            "Número de iteraciones: 31\n"
          ]
        }
      ]
    }
  ]
}