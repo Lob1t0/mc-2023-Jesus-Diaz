{
  "nbformat": 4,
  "nbformat_minor": 0,
  "metadata": {
    "colab": {
      "provenance": []
    },
    "kernelspec": {
      "name": "python3",
      "display_name": "Python 3"
    },
    "language_info": {
      "name": "python"
    }
  },
  "cells": [
    {
      "cell_type": "code",
      "execution_count": null,
      "metadata": {
        "colab": {
          "base_uri": "https://localhost:8080/"
        },
        "id": "TABYKxf_1gt-",
        "outputId": "652e9a33-54f4-4e5e-c353-0a9e0934fb05"
      },
      "outputs": [
        {
          "output_type": "stream",
          "name": "stdout",
          "text": [
            "La función lineal ajustada es y = 38.01 + 207.22*x1 + 209.91*x2\n",
            "El coeficiente de correlación es r = 0.00\n"
          ]
        }
      ],
      "source": [
        "import math\n",
        "\n",
        "\n",
        "x1 = [1, 1, 2, 3, 1, 2, 3, 3]\n",
        "x2 = [0, 1, 1, 2, 2, 3, 3, 1]\n",
        "y = [3.2, 6, 2.2, 2.5, 6.5, 6.6, 3.5, 0.2]\n",
        "\n",
        "n = len(x1)\n",
        "\n",
        "\n",
        "sum_x1 = sum(x1)\n",
        "sum_x2 = sum(x2)\n",
        "sum_y = sum(y)\n",
        "sum_x1_squared = sum([x**2 for x in x1])\n",
        "sum_x2_squared = sum([x**2 for x in x2])\n",
        "sum_x1x2 = sum([x1[i]*x2[i] for i in range(n)])\n",
        "sum_x1y = sum([x1[i]*y[i] for i in range(n)])\n",
        "sum_x2y = sum([x2[i]*y[i] for i in range(n)])\n",
        "\n",
        "\n",
        "denominator = n*sum_x1_squared*sum_x2_squared - sum_x1x2**2\n",
        "a0 = ((sum_x1_squared*sum_x2y - sum_x1y*sum_x1x2)*sum_x2_squared - (sum_x1x2**2)*(sum_x2*sum_y - sum_x2y*sum_x2)) / denominator\n",
        "a1 = ((n*sum_x1x2*sum_x2y - sum_x1y*sum_x2_squared)*n*sum_x1 - (n*sum_x1x2**2)*(sum_x1*sum_x2 - n*sum_x2_squared)) / denominator\n",
        "a2 = ((n*sum_x1x2*sum_x1y - sum_x2y*sum_x1_squared)*n*sum_x2 - (n*sum_x1x2**2)*(sum_x1*sum_x2 - n*sum_x1_squared)) / denominator\n",
        "\n",
        "sr = sum([(y[i] - a0 - a1*x1[i] - a2*x2[i])**2 for i in range(n)])\n",
        "\n",
        "\n",
        "syx = math.sqrt(sr / (n - 3))\n",
        "\n",
        "\n",
        "st = sum([(y[i] - sum_y/n)**2 for i in range(n)])\n",
        "r_squared = (st - sr) / st\n",
        "\n",
        "if r_squared < 0:\n",
        "    r_squared = 0\n",
        "\n",
        "r = math.sqrt(r_squared)\n",
        "\n",
        "print(\"La función lineal ajustada es y = {:.2f} + {:.2f}*x1 + {:.2f}*x2\".format(a0, a1, a2))\n",
        "print(\"El coeficiente de correlación es r = {:.2f}\".format(r))\n",
        "\n"
      ]
    }
  ]
}