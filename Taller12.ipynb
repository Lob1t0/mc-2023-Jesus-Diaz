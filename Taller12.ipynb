{
  "nbformat": 4,
  "nbformat_minor": 0,
  "metadata": {
    "colab": {
      "provenance": []
    },
    "kernelspec": {
      "name": "python3",
      "display_name": "Python 3"
    },
    "language_info": {
      "name": "python"
    }
  },
  "cells": [
    {
      "cell_type": "code",
      "source": [
        "import math\n",
        "\n",
        "def f(x):\n",
        "    return math.exp(-x)\n",
        "\n",
        "a = 0.45\n",
        "x = 0.455\n",
        "sum = 0\n",
        "error = 100\n",
        "\n",
        "for n in range(16):\n",
        "    f_deriv = (-1)**n * math.exp(-a)\n",
        "    term = f_deriv * (x - a)**n / math.factorial(n)\n",
        "    sum += term\n",
        "    error = abs((f(x) - sum) / f(x)) * 100\n",
        "    print(\"Orden {}: {:.15f} Error relativo porcentual: {:.15f}\".format(n, sum, error))\n"
      ],
      "metadata": {
        "colab": {
          "base_uri": "https://localhost:8080/"
        },
        "id": "i9xxp9YCfCpT",
        "outputId": "e86b38bd-5396-43e1-bd76-19c26f53a132"
      },
      "execution_count": 2,
      "outputs": [
        {
          "output_type": "stream",
          "name": "stdout",
          "text": [
            "Orden 0: 0.637628151621773 Error relativo porcentual: 0.501252085940106\n",
            "Orden 1: 0.634440010863664 Error relativo porcentual: 0.001254174489602\n",
            "Orden 2: 0.634447981215560 Error relativo porcentual: 0.000002091161470\n",
            "Orden 3: 0.634447967931640 Error relativo porcentual: 0.000000002614619\n",
            "Orden 4: 0.634447967948245 Error relativo porcentual: 0.000000000002607\n",
            "Orden 5: 0.634447967948228 Error relativo porcentual: 0.000000000000017\n",
            "Orden 6: 0.634447967948228 Error relativo porcentual: 0.000000000000017\n",
            "Orden 7: 0.634447967948228 Error relativo porcentual: 0.000000000000017\n",
            "Orden 8: 0.634447967948228 Error relativo porcentual: 0.000000000000017\n",
            "Orden 9: 0.634447967948228 Error relativo porcentual: 0.000000000000017\n",
            "Orden 10: 0.634447967948228 Error relativo porcentual: 0.000000000000017\n",
            "Orden 11: 0.634447967948228 Error relativo porcentual: 0.000000000000017\n",
            "Orden 12: 0.634447967948228 Error relativo porcentual: 0.000000000000017\n",
            "Orden 13: 0.634447967948228 Error relativo porcentual: 0.000000000000017\n",
            "Orden 14: 0.634447967948228 Error relativo porcentual: 0.000000000000017\n",
            "Orden 15: 0.634447967948228 Error relativo porcentual: 0.000000000000017\n"
          ]
        }
      ]
    }
  ]
}