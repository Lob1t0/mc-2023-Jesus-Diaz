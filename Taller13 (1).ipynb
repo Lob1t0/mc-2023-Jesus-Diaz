{
  "nbformat": 4,
  "nbformat_minor": 0,
  "metadata": {
    "colab": {
      "provenance": []
    },
    "kernelspec": {
      "name": "python3",
      "display_name": "Python 3"
    },
    "language_info": {
      "name": "python"
    }
  },
  "cells": [
    {
      "cell_type": "markdown",
      "source": [
        "**1. Cree un programa que selecciones dos vectores de longitud\n",
        "n (dada por el usuario al principio) y halle su producto\n",
        "escalar.**"
      ],
      "metadata": {
        "id": "4ejl1ors-x-l"
      }
    },
    {
      "cell_type": "code",
      "execution_count": 5,
      "metadata": {
        "colab": {
          "base_uri": "https://localhost:8080/"
        },
        "id": "431CvpfA-ohW",
        "outputId": "3031651e-92f7-46ec-df55-fdf0011bfec8"
      },
      "outputs": [
        {
          "output_type": "stream",
          "name": "stdout",
          "text": [
            "Ingresa la longitud de los vectores: 2\n",
            "Ingresa los elementos del primer vector:\n",
            "1\n",
            "2\n",
            "Ingresa los elementos del segundo vector:\n",
            "1\n",
            "2\n",
            "El producto escalar es: 5\n"
          ]
        }
      ],
      "source": [
        "n = int(input(\"Ingresa la longitud de los vectores: \"))\n",
        "\n",
        "\n",
        "vector1 = []\n",
        "vector2 = []\n",
        "\n",
        "\n",
        "print(\"Ingresa los elementos del primer vector:\")\n",
        "for i in range(n):\n",
        "    elemento = int(input())\n",
        "    vector1.append(elemento)\n",
        "\n",
        "\n",
        "print(\"Ingresa los elementos del segundo vector:\")\n",
        "for i in range(n):\n",
        "    elemento = int(input())\n",
        "    vector2.append(elemento)\n",
        "\n",
        "\n",
        "producto_escalar = 0\n",
        "for i in range(n):\n",
        "    producto_escalar += vector1[i] * vector2[i]\n",
        "\n",
        "\n",
        "print(\"El producto escalar es:\", producto_escalar)\n"
      ]
    },
    {
      "cell_type": "markdown",
      "source": [
        "**2. Cree un programa que solicite dos matrices A y B (las\n",
        "dimensiones de cada matriz deben ser indicadas por el\n",
        "usuario) y, de ser posible, realice las siguientes operaciones:\n",
        "a) 3A\n",
        "b) 4B\n",
        "c) A + B\n",
        "d) B × A**"
      ],
      "metadata": {
        "id": "hozTPQqUQe-P"
      }
    },
    {
      "cell_type": "code",
      "source": [
        "import numpy as np\n",
        "\n",
        "\n",
        "fila_A = int(input(\"Ingrese el número de filas de la matriz A: \"))\n",
        "col_A = int(input(\"Ingrese el número de columnas de la matriz A: \"))\n",
        "fila_B = int(input(\"Ingrese el número de filas de la matriz B: \"))\n",
        "col_B = int(input(\"Ingrese el número de columnas de la matriz B: \"))\n",
        "\n",
        "\n",
        "A = np.zeros((fila_A, col_A))\n",
        "B = np.zeros((fila_B, col_B))\n",
        "\n",
        "for i in range(fila_A):\n",
        "    for j in range(col_A):\n",
        "        A[i][j] = float(input(f\"Ingrese el valor para A[{i+1}][{j+1}]: \"))\n",
        "\n",
        "for i in range(fila_B):\n",
        "    for j in range(col_B):\n",
        "        B[i][j] = float(input(f\"Ingrese el valor para B[{i+1}][{j+1}]: \"))\n",
        "\n",
        "\n",
        "tresA = 3*A\n",
        "cuatroB = 4*B\n",
        "suma = A + B\n",
        "multiplicacion = np.dot(B, A)\n",
        "\n",
        "\n",
        "print(\"3A:\")\n",
        "print(tresA)\n",
        "\n",
        "print(\"4B:\")\n",
        "print(cuatroB)\n",
        "\n",
        "print(\"A + B:\")\n",
        "print(suma)\n",
        "\n",
        "print(\"B x A:\")\n",
        "print(multiplicacion)\n",
        "\n"
      ],
      "metadata": {
        "colab": {
          "base_uri": "https://localhost:8080/"
        },
        "id": "zFZKccM3MnE6",
        "outputId": "01097946-7057-4a38-e51c-6d8f7cea1e9f"
      },
      "execution_count": 8,
      "outputs": [
        {
          "output_type": "stream",
          "name": "stdout",
          "text": [
            "Ingrese el número de filas de la matriz A: 2\n",
            "Ingrese el número de columnas de la matriz A: 2\n",
            "Ingrese el número de filas de la matriz B: 2\n",
            "Ingrese el número de columnas de la matriz B: 2\n",
            "Ingrese el valor para A[1][1]: 1\n",
            "Ingrese el valor para A[1][2]: 2\n",
            "Ingrese el valor para A[2][1]: 3\n",
            "Ingrese el valor para A[2][2]: 4\n",
            "Ingrese el valor para B[1][1]: 1\n",
            "Ingrese el valor para B[1][2]: 2\n",
            "Ingrese el valor para B[2][1]: 3\n",
            "Ingrese el valor para B[2][2]: 4\n",
            "3A:\n",
            "[[ 3.  6.]\n",
            " [ 9. 12.]]\n",
            "4B:\n",
            "[[ 4.  8.]\n",
            " [12. 16.]]\n",
            "A + B:\n",
            "[[2. 4.]\n",
            " [6. 8.]]\n",
            "B x A:\n",
            "[[ 7. 10.]\n",
            " [15. 22.]]\n"
          ]
        }
      ]
    }
  ]
}