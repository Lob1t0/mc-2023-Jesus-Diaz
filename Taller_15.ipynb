{
  "nbformat": 4,
  "nbformat_minor": 0,
  "metadata": {
    "colab": {
      "provenance": []
    },
    "kernelspec": {
      "name": "python3",
      "display_name": "Python 3"
    },
    "language_info": {
      "name": "python"
    }
  },
  "cells": [
    {
      "cell_type": "code",
      "source": [
        "# Definimos la matriz A\n",
        "A = [[3, 2, 2], [3, 1, -3], [1, 0, -2]]\n",
        "\n",
        "# Creamos la matriz identidad\n",
        "I = [[1, 0, 0], [0, 1, 0], [0, 0, 1]]\n",
        "\n",
        "# Concatenamos la matriz A y la matriz identidad\n",
        "M = []\n",
        "for i in range(len(A)):\n",
        "    row = A[i] + I[i]\n",
        "    M.append(row)\n",
        "\n",
        "# Iteramos sobre las filas de la matriz\n",
        "for i in range(len(M)):\n",
        "    # Dividimos la fila i por el elemento M[i][i]\n",
        "    pivot = M[i][i]\n",
        "    for j in range(len(M[i])):\n",
        "        M[i][j] /= pivot\n",
        "    \n",
        "    # Restamos las demás filas para hacer ceros en la columna i\n",
        "    for j in range(len(M)):\n",
        "        if i != j:\n",
        "            factor = M[j][i]\n",
        "            for k in range(len(M[i])):\n",
        "                M[j][k] -= factor * M[i][k]\n",
        "\n",
        "# Extraemos la matriz inversa de la matriz resultante\n",
        "A_inv = []\n",
        "for i in range(len(A)):\n",
        "    row = []\n",
        "    for j in range(len(A[i])):\n",
        "        row.append(M[i][j+len(A[i])])\n",
        "    A_inv.append(row)\n",
        "\n",
        "# Imprimimos la matriz inversa\n",
        "print(\"La inversa de A es:\")\n",
        "for row in A_inv:\n",
        "    print(row)\n",
        "\n"
      ],
      "metadata": {
        "colab": {
          "base_uri": "https://localhost:8080/"
        },
        "id": "KP6sWjUhD1Hw",
        "outputId": "f4498513-479a-4b7e-a061-1f37620bd8d0"
      },
      "execution_count": 6,
      "outputs": [
        {
          "output_type": "stream",
          "name": "stdout",
          "text": [
            "La inversa de A es:\n",
            "[1.0000000000000002, -2.0000000000000004, 4.000000000000001]\n",
            "[-1.5000000000000004, 4.000000000000001, -7.500000000000002]\n",
            "[0.5000000000000001, -1.0000000000000002, 1.5000000000000004]\n"
          ]
        }
      ]
    },
    {
      "cell_type": "code",
      "source": [
        "# Definimos la matriz B\n",
        "B = [[1, 2, 0, 4], [2, 0, -1, -2], [1, 1, -1, 0], [0, 4, 1, 0]]\n",
        "\n",
        "# Creamos la matriz identidad\n",
        "I = [[1, 0, 0, 0], [0, 1, 0, 0], [0, 0, 1, 0], [0, 0, 0, 1]]\n",
        "\n",
        "# Concatenamos la matriz B y la matriz identidad\n",
        "M = []\n",
        "for i in range(len(B)):\n",
        "    row = B[i] + I[i]\n",
        "    M.append(row)\n",
        "\n",
        "# Iteramos sobre las filas de la matriz\n",
        "for i in range(len(M)):\n",
        "    # Dividimos la fila i por el elemento M[i][i]\n",
        "    pivot = M[i][i]\n",
        "    for j in range(len(M[i])):\n",
        "        M[i][j] /= pivot\n",
        "    \n",
        "    # Restamos las demás filas para hacer ceros en la columna i\n",
        "    for j in range(len(M)):\n",
        "        if i != j:\n",
        "            factor = M[j][i]\n",
        "            for k in range(len(M[i])):\n",
        "                M[j][k] -= factor * M[i][k]\n",
        "\n",
        "# Extraemos la matriz inversa de la matriz resultante\n",
        "B_inv = []\n",
        "for i in range(len(B)):\n",
        "    row = []\n",
        "    for j in range(len(B[i])):\n",
        "        row.append(M[i][j+len(B[i])])\n",
        "    B_inv.append(row)\n",
        "\n",
        "# Imprimimos la matriz inversa\n",
        "print(\"La inversa de B es:\")\n",
        "for row in B_inv:\n",
        "    print(row)\n"
      ],
      "metadata": {
        "colab": {
          "base_uri": "https://localhost:8080/"
        },
        "id": "N-PqGpgqEFSX",
        "outputId": "2c5168a8-ddd7-4a37-e101-4b3c6c352ec5"
      },
      "execution_count": 3,
      "outputs": [
        {
          "output_type": "stream",
          "name": "stdout",
          "text": [
            "La inversa de B es:\n",
            "[0.3333333333333333, 0.6666666666666666, -0.6666666666666666, 0.0]\n",
            "[-0.06666666666666665, -0.1333333333333333, 0.3333333333333333, 0.2]\n",
            "[0.2666666666666666, 0.5333333333333333, -1.3333333333333333, 0.2]\n",
            "[0.2, -0.1, -0.0, -0.1]\n"
          ]
        }
      ]
    }
  ]
}