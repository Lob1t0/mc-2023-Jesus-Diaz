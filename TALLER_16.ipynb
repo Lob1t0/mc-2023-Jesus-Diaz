{
  "nbformat": 4,
  "nbformat_minor": 0,
  "metadata": {
    "colab": {
      "provenance": []
    },
    "kernelspec": {
      "name": "python3",
      "display_name": "Python 3"
    },
    "language_info": {
      "name": "python"
    }
  },
  "cells": [
    {
      "cell_type": "code",
      "source": [
        "import numpy as np\n",
        "\n",
        "\n",
        "x = np.array([0, 1, 2, 3, 4, 5, 6, 7])\n",
        "y = np.array([3.5, 2.5, 3, 1.5, 2, 1.3, 1, 0.3])\n",
        "\n",
        "\n",
        "m, b = np.polyfit(x, y, 1)\n",
        "\n",
        "\n",
        "print(\"La pendiente de la línea recta es:\", m)\n",
        "print(\"La intersección de la línea recta es:\", b)"
      ],
      "metadata": {
        "colab": {
          "base_uri": "https://localhost:8080/"
        },
        "id": "j-Lk-FsfCvuM",
        "outputId": "c2f98fd3-ae28-42cd-a608-cfa47f061a04"
      },
      "execution_count": 2,
      "outputs": [
        {
          "output_type": "stream",
          "name": "stdout",
          "text": [
            "La pendiente de la línea recta es: -0.41071428571428586\n",
            "La intersección de la línea recta es: 3.3250000000000006\n"
          ]
        }
      ]
    }
  ]
}