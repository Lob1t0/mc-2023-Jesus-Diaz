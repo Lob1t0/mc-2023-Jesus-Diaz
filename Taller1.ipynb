{
  "nbformat": 4,
  "nbformat_minor": 0,
  "metadata": {
    "colab": {
      "provenance": []
    },
    "kernelspec": {
      "name": "python3",
      "display_name": "Python 3"
    },
    "language_info": {
      "name": "python"
    }
  },
  "cells": [
    {
      "cell_type": "code",
      "execution_count": 2,
      "metadata": {
        "colab": {
          "base_uri": "https://localhost:8080/"
        },
        "id": "6UqXzhILpzLB",
        "outputId": "85dc9fba-b13f-4ebf-d66c-fb82d539d1c2"
      },
      "outputs": [
        {
          "output_type": "stream",
          "name": "stdout",
          "text": [
            "Ingrese los números decimales del conjunto A separados por espacio: 1 2 3 4 5 \n",
            "Ingrese los números decimales del conjunto B separados por espacio: 3 4 6 7 98\n",
            "Union: {1.0, 2.0, 3.0, 4.0, 5.0, 98.0, 6.0, 7.0}\n",
            "Intersección: {3.0, 4.0}\n",
            "Diferencia: {1.0, 2.0, 5.0}\n",
            "Diferencia simétrica: {1.0, 98.0, 2.0, 6.0, 7.0, 5.0}\n"
          ]
        }
      ],
      "source": [
        "\n",
        "A = set(map(float, input(\"Ingrese los números decimales del conjunto A separados por espacio: \").split()))\n",
        "B = set(map(float, input(\"Ingrese los números decimales del conjunto B separados por espacio: \").split()))\n",
        "\n",
        "union = A | B\n",
        "print(\"Union:\", union)\n",
        "\n",
        "\n",
        "intersection = A & B\n",
        "print(\"Intersección:\", intersection)\n",
        "\n",
        "\n",
        "difference = A - B\n",
        "print(\"Diferencia:\", difference)\n",
        "\n",
        "\n",
        "symmetric_difference = A ^ B\n",
        "print(\"Diferencia simétrica:\", symmetric_difference)\n"
      ]
    }
  ]
}