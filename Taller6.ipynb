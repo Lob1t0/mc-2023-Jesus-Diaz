{
  "nbformat": 4,
  "nbformat_minor": 0,
  "metadata": {
    "colab": {
      "provenance": []
    },
    "kernelspec": {
      "name": "python3",
      "display_name": "Python 3"
    },
    "language_info": {
      "name": "python"
    }
  },
  "cells": [
    {
      "cell_type": "code",
      "source": [
        "import math\n",
        "\n",
        "\n",
        "def coseno(x, n):\n",
        "    \"\"\"Calcula el coseno de x con n términos de la serie de Taylor\"\"\"\n",
        "    cos = 0\n",
        "    for i in range(n):\n",
        "        signo = (-1) ** i\n",
        "        num = x ** (2 * i)\n",
        "        den = math.factorial(2 * i)\n",
        "        cos += signo * (num / den)\n",
        "    return cos\n",
        "\n",
        "\n",
        "x = float(input(\"Ingrese el valor de x en radianes: \"))\n",
        "\n",
        "\n",
        "es = float(input(\"Ingrese el criterio de error esperado: \"))\n",
        "\n",
        "\n",
        "ea = 1  \n",
        "n = 0   \n",
        "\n",
        "\n",
        "while ea >= es:\n",
        "    n += 1\n",
        "    cos = coseno(x, n)\n",
        "    if n == 1:\n",
        "        ea = 1  \n",
        "    else:\n",
        "        ea = abs((cos - cos_ant) / cos) * 100\n",
        "    cos_ant = cos\n",
        "\n",
        "\n",
        "print(\"El coseno de\", x, \"es:\", cos)\n",
        "print(\"El error relativo porcentual es:\", ea)\n",
        "print(\"Se realizaron\", n, \"iteraciones.\")\n"
      ],
      "metadata": {
        "colab": {
          "base_uri": "https://localhost:8080/"
        },
        "id": "dUmuxAq3NbBM",
        "outputId": "ccc4ff0b-730c-42ca-ce53-9834df43a557"
      },
      "execution_count": 4,
      "outputs": [
        {
          "output_type": "stream",
          "name": "stdout",
          "text": [
            "Ingrese el valor de x en radianes: 45\n",
            "Ingrese el criterio de error esperado: 0.000001\n",
            "El coseno de 45.0 es: -56.52386288241983\n",
            "El error relativo porcentual es: 3.011273440437576e-07\n",
            "Se realizaron 68 iteraciones.\n"
          ]
        }
      ]
    }
  ]
}