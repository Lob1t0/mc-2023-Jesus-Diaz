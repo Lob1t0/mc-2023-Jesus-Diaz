{
  "nbformat": 4,
  "nbformat_minor": 0,
  "metadata": {
    "colab": {
      "provenance": []
    },
    "kernelspec": {
      "name": "python3",
      "display_name": "Python 3"
    },
    "language_info": {
      "name": "python"
    }
  },
  "cells": [
    {
      "cell_type": "code",
      "source": [
        "print(\"e^−x = 1 − x +x^2/2!−x^3/3!+x^4/4!−x^5/5!+ ⋯,\",\"la respuesta de esta parte del taller es:\")\n",
        "import math\n",
        "\n",
        "x = 0.85\n",
        "cos_x = 1\n",
        "tolerance = 0.000000005\n",
        "\n",
        "i = 1\n",
        "while True:\n",
        "    c = ((-1)**i * x**i) / math.factorial(i)\n",
        "    cos_x += c\n",
        "    if abs(c / cos_x) * 100 < tolerance:\n",
        "        break\n",
        "    else:\n",
        "        i += 1\n",
        "\n",
        "print(f\"El valor estimado es de: {cos_x:.8f}\")\n",
        "print(f\"El error aproximado relativo porcentual es de {abs(c / cos_x) * 100:.8f}%.\")\n",
        "print(f\"Se realizaron {i} iteraciones.\")\n"
      ],
      "metadata": {
        "colab": {
          "base_uri": "https://localhost:8080/"
        },
        "id": "riZoGug1sCR4",
        "outputId": "052f0f7d-c0ee-4ebf-b1b9-5c59e920c438"
      },
      "execution_count": 24,
      "outputs": [
        {
          "output_type": "stream",
          "name": "stdout",
          "text": [
            "e^−x = 1 − x +x^2/2!−x^3/3!+x^4/4!−x^5/5!+ ⋯, la respuesta de esta parte del taller es:\n",
            "El valor estimado es de: 0.42741493\n",
            "El error aproximado relativo porcentual es de 0.00000000%.\n",
            "Se realizaron 13 iteraciones.\n"
          ]
        }
      ]
    },
    {
      "cell_type": "code",
      "source": [
        "import math\n",
        "\n",
        "x = 0.85\n",
        "cos_x = 1\n",
        "tolerance = 0.000000005\n",
        "\n",
        "i = 1\n",
        "while True:\n",
        "    c = x**i / math.factorial(i)\n",
        "    cos_x += c\n",
        "    if abs(c / cos_x) < tolerance:\n",
        "        break\n",
        "    else:\n",
        "        i += 1\n",
        "\n",
        "result = 1 / cos_x\n",
        "ea = abs((result - math.exp(-x)) / result) * 100\n",
        "\n",
        "print(f\"El valor estimado es de: {result:.8f}\")\n",
        "print(f\"El error aproximado relativo porcentual es de {ea:.8f}%.\")\n",
        "print(f\"Se realizaron {i} iteraciones.\")\n"
      ],
      "metadata": {
        "colab": {
          "base_uri": "https://localhost:8080/"
        },
        "id": "6_1GBrZosYcK",
        "outputId": "415affa4-2460-44a7-9450-368e84da7a30"
      },
      "execution_count": 25,
      "outputs": [
        {
          "output_type": "stream",
          "name": "stdout",
          "text": [
            "El valor estimado es de: 0.42741493\n",
            "El error aproximado relativo porcentual es de 0.00000001%.\n",
            "Se realizaron 11 iteraciones.\n"
          ]
        }
      ]
    }
  ]
}