{
  "nbformat": 4,
  "nbformat_minor": 0,
  "metadata": {
    "colab": {
      "provenance": []
    },
    "kernelspec": {
      "name": "python3",
      "display_name": "Python 3"
    },
    "language_info": {
      "name": "python"
    }
  },
  "cells": [
    {
      "cell_type": "code",
      "source": [
        "\n",
        "puntos = [(0, 1), (1, 0.9), (2, -1), (3, -2.3), (4, 1.8)]\n",
        "\n",
        "\n",
        "def lagrange(puntos):\n",
        "    n = len(puntos)\n",
        "    polinomio = ''\n",
        "    for i in range(n):\n",
        "        termino = str(puntos[i][1])\n",
        "        for j in range(n):\n",
        "            if i != j:\n",
        "                termino += '*(x - ' + str(puntos[j][0]) + ')/(' + str(puntos[i][0]) + '-' + str(puntos[j][0]) + ')'\n",
        "        polinomio += termino + ' + \\n'\n",
        "    return polinomio[:-4]\n",
        "\n",
        "\n",
        "print(lagrange(puntos))\n",
        "\n"
      ],
      "metadata": {
        "colab": {
          "base_uri": "https://localhost:8080/"
        },
        "id": "_L5j20EoqDng",
        "outputId": "ac6f72f4-a45b-48ff-9d55-b67fde7c9959"
      },
      "execution_count": null,
      "outputs": [
        {
          "output_type": "stream",
          "name": "stdout",
          "text": [
            "1*(x - 1)/(0-1)*(x - 2)/(0-2)*(x - 3)/(0-3)*(x - 4)/(0-4) + \n",
            "0.9*(x - 0)/(1-0)*(x - 2)/(1-2)*(x - 3)/(1-3)*(x - 4)/(1-4) + \n",
            "-1*(x - 0)/(2-0)*(x - 1)/(2-1)*(x - 3)/(2-3)*(x - 4)/(2-4) + \n",
            "-2.3*(x - 0)/(3-0)*(x - 1)/(3-1)*(x - 2)/(3-2)*(x - 4)/(3-4) + \n",
            "1.8*(x - 0)/(4-0)*(x - 1)/(4-1)*(x - 2)/(4-2)*(x - 3)/(4-3)\n"
          ]
        }
      ]
    }
  ]
}