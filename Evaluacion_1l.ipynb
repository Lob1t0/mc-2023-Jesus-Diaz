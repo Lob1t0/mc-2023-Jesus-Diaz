{
  "nbformat": 4,
  "nbformat_minor": 0,
  "metadata": {
    "colab": {
      "provenance": []
    },
    "kernelspec": {
      "name": "python3",
      "display_name": "Python 3"
    },
    "language_info": {
      "name": "python"
    }
  },
  "cells": [
    {
      "cell_type": "markdown",
      "source": [
        "**Punto 1**"
      ],
      "metadata": {
        "id": "j64ZmDV7O8az"
      }
    },
    {
      "cell_type": "code",
      "source": [
        "B = {x for x in range(2, 25)}\n",
        "print(B)"
      ],
      "metadata": {
        "colab": {
          "base_uri": "https://localhost:8080/"
        },
        "id": "NMAE207-MKV7",
        "outputId": "5542f79f-8e35-4dd7-ac3d-0fc237a6edf6"
      },
      "execution_count": 3,
      "outputs": [
        {
          "output_type": "stream",
          "name": "stdout",
          "text": [
            "{2, 3, 4, 5, 6, 7, 8, 9, 10, 11, 12, 13, 14, 15, 16, 17, 18, 19, 20, 21, 22, 23, 24}\n"
          ]
        }
      ]
    },
    {
      "cell_type": "code",
      "source": [
        "C = {x for x in range(5, 36) if x % 4 == 2}\n",
        "print(C)"
      ],
      "metadata": {
        "colab": {
          "base_uri": "https://localhost:8080/"
        },
        "id": "GYVdqar-McRS",
        "outputId": "14d15bbb-6aa0-40ae-f993-eff731a03de1"
      },
      "execution_count": 4,
      "outputs": [
        {
          "output_type": "stream",
          "name": "stdout",
          "text": [
            "{34, 6, 10, 14, 18, 22, 26, 30}\n"
          ]
        }
      ]
    },
    {
      "cell_type": "code",
      "execution_count": 7,
      "metadata": {
        "colab": {
          "base_uri": "https://localhost:8080/"
        },
        "id": "ZuWZjZxYKbX4",
        "outputId": "13144d97-9ce6-4acd-c0c7-02a3b1df866a"
      },
      "outputs": [
        {
          "output_type": "stream",
          "name": "stdout",
          "text": [
            "Operación 1: {34, 4, 9, 12, 20, 26, 30}\n",
            "Operación 2: {2, 3, 4, 5, 6, 7, 8, 9, 10, 11, 12, 13, 14, 15, 16, 17, 18, 19, 20, 21, 22, 23, 24, 26, 34}\n",
            "Operación 3: set()\n"
          ]
        }
      ],
      "source": [
        "A = {1, 4, 6, 9, 12, 20, 30}\n",
        "B = {2, 3, 4, 5, 6, 7, 8, 9, 10, 11, 12, 13, 14, 15, 16, 17, 18, 19, 20, 21, 22, 23, 24}\n",
        "C = {6, 10, 14, 18, 22, 26, 30,34}\n",
        "\n",
        "\n",
        "op1 = (B.symmetric_difference(C)).intersection(A.union(C))\n",
        "print(\"Operación 1:\", op1)\n",
        "\n",
        "\n",
        "op2 = (A.difference(B)).intersection(C).symmetric_difference(B.union(C))\n",
        "print(\"Operación 2:\", op2)\n",
        "\n",
        "\n",
        "op3 = (A.difference(C).union(B.intersection(A))).difference(A.union(B).union(C))\n",
        "print(\"Operación 3:\", op3)\n",
        "#En este operación no se imprimira nada ya  que al realizar la unión entre (A - C) y (B ∩ A), se obtiene un conjunto vacío, lo que hace que al realizar la diferencia entre este conjunto vacío y (A ∪ B ∪ C), el resultado también sea un conjunto vacío."
      ]
    }
  ]
}