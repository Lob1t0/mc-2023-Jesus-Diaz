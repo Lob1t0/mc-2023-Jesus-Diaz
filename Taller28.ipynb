{
  "nbformat": 4,
  "nbformat_minor": 0,
  "metadata": {
    "colab": {
      "provenance": []
    },
    "kernelspec": {
      "name": "python3",
      "display_name": "Python 3"
    },
    "language_info": {
      "name": "python"
    }
  },
  "cells": [
    {
      "cell_type": "code",
      "execution_count": 3,
      "metadata": {
        "colab": {
          "base_uri": "https://localhost:8080/"
        },
        "id": "Te8Gj-7nzNiZ",
        "outputId": "b5c051d6-fa17-485a-e419-ec6ca49c8e32"
      },
      "outputs": [
        {
          "output_type": "stream",
          "name": "stdout",
          "text": [
            "Raíz estimada: 1.74090542\n"
          ]
        }
      ],
      "source": [
        "import math\n",
        "\n",
        "def f(x):\n",
        "    return x**2 - math.exp(-2*x) - 3\n",
        "\n",
        "def f_prime(x):\n",
        "    return 2*x + 2*math.exp(-2*x)\n",
        "\n",
        "def newton_raphson(guess, epsilon):\n",
        "    x = guess\n",
        "    while True:\n",
        "        f_x = f(x)\n",
        "        f_prime_x = f_prime(x)\n",
        "        x_next = x - (f_x / f_prime_x)\n",
        "        ea = abs((x_next - x) / x_next) * 100\n",
        "        if round(ea, 8) < epsilon:\n",
        "            break\n",
        "        x = x_next\n",
        "    return x\n",
        "\n",
        "\n",
        "guess = 1.5\n",
        "epsilon = 0.00000001\n",
        "\n",
        "root = newton_raphson(guess, epsilon)\n",
        "rounded_root = round(root, 8)\n",
        "if str(rounded_root).startswith(\"1.74\"):\n",
        "    print(\"Raíz estimada:\", rounded_root)\n",
        "else:\n",
        "    print(\"No se pudo encontrar una raíz estimada que comience con 1.74. Raíz encontrada:\", rounded_root)\n",
        "\n"
      ]
    }
  ]
}