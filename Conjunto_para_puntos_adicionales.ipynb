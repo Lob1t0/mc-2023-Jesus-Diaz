{
  "nbformat": 4,
  "nbformat_minor": 0,
  "metadata": {
    "colab": {
      "provenance": []
    },
    "kernelspec": {
      "name": "python3",
      "display_name": "Python 3"
    },
    "language_info": {
      "name": "python"
    }
  },
  "cells": [
    {
      "cell_type": "code",
      "source": [
        "def subconjuntos(numeros):\n",
        "    return subconjuntos_conjunto([], sorted(numeros))\n",
        "\n",
        "def subconjuntos_conjunto(nuevo, conjunto):\n",
        "    if conjunto:\n",
        "        return subconjuntos_conjunto(nuevo, conjunto[1:]) + subconjuntos_conjunto(nuevo + [conjunto[0]], conjunto[1:])\n",
        "    return [nuevo]\n",
        "\n",
        "\n",
        "numeros=input(\"Ingresa una lista de números para formar un conjunto, al ser un conjunto no pueden ser números repetidos.\")\n",
        "resultado = subconjuntos(numeros)\n",
        "\n",
        "print(resultado)\n",
        "\n"
      ],
      "metadata": {
        "id": "zF_jizc5DD2v"
      },
      "execution_count": null,
      "outputs": []
    }
  ]
}