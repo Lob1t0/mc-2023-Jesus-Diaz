{
  "nbformat": 4,
  "nbformat_minor": 0,
  "metadata": {
    "colab": {
      "provenance": []
    },
    "kernelspec": {
      "name": "python3",
      "display_name": "Python 3"
    },
    "language_info": {
      "name": "python"
    }
  },
  "cells": [
    {
      "cell_type": "code",
      "execution_count": 5,
      "metadata": {
        "colab": {
          "base_uri": "https://localhost:8080/"
        },
        "id": "czRC5QlX1-3h",
        "outputId": "b93e5176-925c-45c5-f05e-73d81e170604"
      },
      "outputs": [
        {
          "output_type": "stream",
          "name": "stdout",
          "text": [
            "{2, 4, 8, 10, 12, 18, 20}\n",
            "{2, 4, 6, 8, 10, 12, 14, 15, 16, 18, 20, 22, 24}\n",
            "{2, 3, 5, 6, 7, 11, 13, 14, 16, 17, 19, 22, 23, 24, 29, 31, 37, 41, 43}\n",
            "{9, 15}\n"
          ]
        }
      ],
      "source": [
        "A = {6,7,8,9,10,11,12,13,14,15,16,17,18,19,20}\n",
        "B = {2,4,6,8,10,12,14,16,18,20,22,24}\n",
        "C = {1,4,8,10,12,15,18,20}\n",
        "D = {2,3,5,7,11,13,17,19,23,29,31,37,41,43}\n",
        "\n",
        "def Union(A,B):\n",
        "  return A|B\n",
        "def Interseccion(A,B):\n",
        "  return A&B\n",
        "def Diferencia(A,B):\n",
        "  return A-B\n",
        "def DiferenciaSimetirca(A,B):\n",
        "  return A^B\n",
        "\n",
        "a=Interseccion(B,DiferenciaSimetirca(C,D))\n",
        "b=Union(Interseccion(A,C),B)\n",
        "c=Diferencia(Union(B,D),C)\n",
        "d=DiferenciaSimetirca(Diferencia(A,B),Interseccion(A,D))\n",
        "\n",
        "print(a)\n",
        "print(b)\n",
        "print(c)\n",
        "print(d)\n"
      ]
    }
  ]
}